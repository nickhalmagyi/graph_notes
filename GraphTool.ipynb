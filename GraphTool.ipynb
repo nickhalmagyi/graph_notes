{
 "cells": [
  {
   "cell_type": "markdown",
   "metadata": {},
   "source": [
    "This notebook contains some basic notes on how to use graph-tool, \n",
    "an advanced analytics package for in-memory graphs.\n",
    "https://graph-tool.skewed.de/"
   ]
  },
  {
   "cell_type": "code",
   "execution_count": 44,
   "metadata": {},
   "outputs": [],
   "source": [
    "from graph_tool.all import *\n",
    "import numpy as np\n",
    "import pandas as pd\n",
    "import time"
   ]
  },
  {
   "cell_type": "markdown",
   "metadata": {},
   "source": [
    "# Graphs, Vertices and Edges"
   ]
  },
  {
   "cell_type": "markdown",
   "metadata": {},
   "source": [
    "The basic objects are \n",
    "1. Graphs\n",
    "2. Vertices\n",
    "3. Edges\n",
    "We should first see how these things are constructed in graph-tool"
   ]
  },
  {
   "cell_type": "markdown",
   "metadata": {},
   "source": [
    "## Vertices"
   ]
  },
  {
   "cell_type": "code",
   "execution_count": 2,
   "metadata": {},
   "outputs": [],
   "source": [
    "# For simplicity we will init an undirected graph.\n",
    "G = Graph(directed=False)"
   ]
  },
  {
   "cell_type": "code",
   "execution_count": 3,
   "metadata": {},
   "outputs": [
    {
     "data": {
      "text/plain": [
       "<Vertex object with index '0' at 0x138a69750>"
      ]
     },
     "execution_count": 3,
     "metadata": {},
     "output_type": "execute_result"
    }
   ],
   "source": [
    "# We now add a single vertex\n",
    "G.add_vertex()"
   ]
  },
  {
   "cell_type": "code",
   "execution_count": 4,
   "metadata": {},
   "outputs": [
    {
     "data": {
      "text/plain": [
       "<graph_tool.libgraph_tool_core.VertexIterator at 0x138a5ef38>"
      ]
     },
     "execution_count": 4,
     "metadata": {},
     "output_type": "execute_result"
    }
   ],
   "source": [
    "# This is one way to access an iterator over the vertices.\n",
    "G.vertices()"
   ]
  },
  {
   "cell_type": "code",
   "execution_count": 5,
   "metadata": {},
   "outputs": [
    {
     "data": {
      "text/plain": [
       "graph_tool.libgraph_tool_core.Vertex"
      ]
     },
     "execution_count": 5,
     "metadata": {},
     "output_type": "execute_result"
    }
   ],
   "source": [
    "# The elements are custom graph-tool classes called \"vertices\"\n",
    "type(list(G.vertices())[0])"
   ]
  },
  {
   "cell_type": "code",
   "execution_count": 6,
   "metadata": {},
   "outputs": [
    {
     "name": "stdout",
     "output_type": "stream",
     "text": [
      "[0]\n"
     ]
    }
   ],
   "source": [
    "# There is another way to access an iterator over the vertices,\n",
    "# this produces just a list of integers, one-can think of it a bit like \n",
    "# a primary key for the vertices.\n",
    "print(G.get_vertices())"
   ]
  },
  {
   "cell_type": "code",
   "execution_count": 7,
   "metadata": {},
   "outputs": [
    {
     "name": "stdout",
     "output_type": "stream",
     "text": [
      "[0 1 2 3 4 5]\n"
     ]
    }
   ],
   "source": [
    "# Now we add a number of vertices\n",
    "N=5\n",
    "G.add_vertex(N)\n",
    "\n",
    "# and see that there these vertices were added to the graph \n",
    "# although so far our graph is just a collection of disconnected vertices.\n",
    "print(G.get_vertices())"
   ]
  },
  {
   "cell_type": "code",
   "execution_count": 8,
   "metadata": {},
   "outputs": [
    {
     "name": "stdout",
     "output_type": "stream",
     "text": [
      "[0, 1, 2, 3, 4, 5]\n"
     ]
    }
   ],
   "source": [
    "# In fact another way to access the same iterator as G.get_vertices \n",
    "# is through the vertex_index property map.\n",
    "# More on property maps later...\n",
    "print([G.vertex_index[vertex] for vertex in G.vertices()])"
   ]
  },
  {
   "cell_type": "markdown",
   "metadata": {
    "heading_collapsed": true
   },
   "source": [
    "## Edges"
   ]
  },
  {
   "cell_type": "code",
   "execution_count": 9,
   "metadata": {
    "hidden": true
   },
   "outputs": [
    {
     "data": {
      "text/plain": [
       "<Edge object with source '3' and target '5' at 0x138a45dc8>"
      ]
     },
     "execution_count": 9,
     "metadata": {},
     "output_type": "execute_result"
    }
   ],
   "source": [
    "# We can add an edge\n",
    "G.add_edge(3,5)"
   ]
  },
  {
   "cell_type": "code",
   "execution_count": 10,
   "metadata": {
    "hidden": true
   },
   "outputs": [
    {
     "data": {
      "text/plain": [
       "array([[0]], dtype=uint64)"
      ]
     },
     "execution_count": 10,
     "metadata": {},
     "output_type": "execute_result"
    }
   ],
   "source": [
    "# We can access an iterator for edges.\n",
    "# Note that the simplest edge, consists of a triple:\n",
    "# [vertex_1, vertex_2, edge_index].\n",
    "# The edges also have an index (again, similar to a primary key for edges)\n",
    "G.get_edges()[:,2:3]"
   ]
  },
  {
   "cell_type": "code",
   "execution_count": 11,
   "metadata": {
    "hidden": true
   },
   "outputs": [
    {
     "data": {
      "text/plain": [
       "[<Edge object with source '3' and target '5' at 0x138a45d50>]"
      ]
     },
     "execution_count": 11,
     "metadata": {},
     "output_type": "execute_result"
    }
   ],
   "source": [
    "# We can also access an iterator over the collection of custom \"edge\" objects:\n",
    "list(G.edges())"
   ]
  },
  {
   "cell_type": "code",
   "execution_count": 12,
   "metadata": {
    "hidden": true
   },
   "outputs": [
    {
     "data": {
      "text/plain": [
       "[0]"
      ]
     },
     "execution_count": 12,
     "metadata": {},
     "output_type": "execute_result"
    }
   ],
   "source": [
    "# And we can access an iterator just over the index\n",
    "[G.edge_index[edge] for edge in G.edges()]"
   ]
  },
  {
   "cell_type": "code",
   "execution_count": 13,
   "metadata": {
    "hidden": true
   },
   "outputs": [
    {
     "data": {
      "text/plain": [
       "array([[0]], dtype=uint64)"
      ]
     },
     "execution_count": 13,
     "metadata": {},
     "output_type": "execute_result"
    }
   ],
   "source": [
    "# Which for the current simple graph is essentially the same as \n",
    "G.get_edges()[:,2:3]"
   ]
  },
  {
   "cell_type": "markdown",
   "metadata": {},
   "source": [
    "# Edge-Lists"
   ]
  },
  {
   "cell_type": "markdown",
   "metadata": {},
   "source": [
    "The most compact form of a graph is an **edge-list**"
   ]
  },
  {
   "cell_type": "code",
   "execution_count": 14,
   "metadata": {},
   "outputs": [],
   "source": [
    "# This very simple edge-list says that \n",
    "# node_1 is connected to node_7\n",
    "# node_7 is connected to node_4\n",
    "# node_4 is connected to node_1\n",
    "\n",
    "edge_list = [[1,7],[7,4],[4,1]]\n",
    "\n",
    "# Indeed, this contains the defining information of a single connected graph.\n",
    "# We do not need to seperately list the nodes, since we can \n",
    "# construct a list of nodes by forming the set of unique \n",
    "# nodes which have edges to them. \n",
    "# In this way we neglect isolated nodes, which may or may not be what\n",
    "# your use case requires."
   ]
  },
  {
   "cell_type": "code",
   "execution_count": 15,
   "metadata": {},
   "outputs": [
    {
     "data": {
      "text/plain": [
       "array([0, 1, 2, 3, 4, 5, 6, 7], dtype=uint64)"
      ]
     },
     "execution_count": 15,
     "metadata": {},
     "output_type": "execute_result"
    }
   ],
   "source": [
    "# We would like to load this directly into a graph, lets try the following:\n",
    "G = Graph(directed=False)\n",
    "G.add_edge_list(edge_list)\n",
    "\n",
    "# However we see that something very odd has happened, there are more vertices\n",
    "# than we anticipated. Our edge list has only three vertices [1,4,7] but \n",
    "# our graph now has vertices from 0-7 inclusive.\n",
    "G.get_vertices()"
   ]
  },
  {
   "cell_type": "code",
   "execution_count": 16,
   "metadata": {},
   "outputs": [
    {
     "data": {
      "text/plain": [
       "array([0, 1, 2], dtype=uint64)"
      ]
     },
     "execution_count": 16,
     "metadata": {},
     "output_type": "execute_result"
    }
   ],
   "source": [
    "# Lets play with some keyword arguments in add_edge_list\n",
    "G = Graph(directed=False)\n",
    "G.add_edge_list(edge_list, hashed=True)\n",
    "\n",
    "# We see that we have done a little better, there is now only three nodes,\n",
    "# but they have been renumbered from zero and the order in which we should map\n",
    "# them back to our original vertices is unclear.\n",
    "G.get_vertices()"
   ]
  },
  {
   "cell_type": "code",
   "execution_count": 17,
   "metadata": {},
   "outputs": [],
   "source": [
    "# Graph-tool orders vertices by the order in which they have been loaded into the graph\n",
    "# but still, this would need to be made more precise to allow us to construct a mapping between\n",
    "# the two types of vertex-indices.\n",
    "\n",
    "# To understand more deeply how to resolve the tension between these indices requires understanding\n",
    "# property_maps"
   ]
  },
  {
   "cell_type": "markdown",
   "metadata": {},
   "source": [
    "# Property Maps"
   ]
  },
  {
   "cell_type": "markdown",
   "metadata": {},
   "source": [
    "Property maps are essential features of graph-tool,\n",
    "they are used to assign properties to vertices and edges.\n",
    "\n",
    "For example, if our vertices are people, a vertex_property could be gender, age, weight\n",
    "and an edge_property might be \"friend\" or \"enemy\". \n",
    "\n",
    "If our nodes are geo-locations, a vertex_property might be \"traffic_light\" or \"house\"\n",
    "and an edge_property might be \"distance_in_meters\".\n",
    "\n",
    "The possibilities are boundless, properties are crucially important.\n",
    "\n",
    "\n",
    "One strategy (used in another Python graph library NetworkX) would be to \n",
    "directly assign properties as attributes to the vertex-class or edge-class.\n",
    "This adds bulk to vertices and edges, such that if during our analysis\n",
    "we create some collection of vertex or edge classes, it will need memory for \n",
    "the whole class including the (perhaps numerous) attributes. \n",
    "\n",
    "The strategy employed by graph-tool is lighter: the properties of both edges and vertices\n",
    "are attached as hash-tables to the graph itself, then the property of any particular\n",
    "vertex or edge can be obtained in O(1) lookup time.\n",
    "\n",
    "We now see how this works in more detail."
   ]
  },
  {
   "cell_type": "code",
   "execution_count": 18,
   "metadata": {},
   "outputs": [
    {
     "name": "stdout",
     "output_type": "stream",
     "text": [
      "{'name': <PropertyMap object with key type 'Vertex' and value type 'string', for Graph 0x138a713c8, at 0x138a71320>}\n",
      "{'name': <PropertyMap object with key type 'Vertex' and value type 'string', for Graph 0x138a713c8, at 0x138a71320>}\n"
     ]
    }
   ],
   "source": [
    "# We first instantiate a vertex-property on our graph,\n",
    "# note that \"vp\" is an alias for vertex_properties.\n",
    "\n",
    "G.vp[\"name\"] = G.new_vertex_property(\"string\")\n",
    "print(G.vp)\n",
    "print(G.vertex_properties)"
   ]
  },
  {
   "cell_type": "code",
   "execution_count": 19,
   "metadata": {},
   "outputs": [],
   "source": [
    "# From the output we see that attached to the graph, is a dict \"vertex_properties\" \n",
    "# whose keys are the names of vertex_properties and whose values are custom PropertyMap objects."
   ]
  },
  {
   "cell_type": "code",
   "execution_count": 20,
   "metadata": {},
   "outputs": [
    {
     "name": "stdout",
     "output_type": "stream",
     "text": [
      "['', '', '']\n",
      "['vertex_number_0', 'vertex_number_1', 'vertex_number_2']\n"
     ]
    }
   ],
   "source": [
    "# A PropertyMap also behaves like a dict whose keys are vertices.\n",
    "# We first show that the value of each property map is the empty string, \n",
    "# then that we set the values to something rather canonical\n",
    "\n",
    "print([G.vp['name'][vertex] for vertex in G.vertices()])\n",
    "\n",
    "i=0\n",
    "for vertex in G.vertices():\n",
    "    G.vp['name'][vertex] = \"vertex_number_{}\".format(i)\n",
    "    i+=1\n",
    "    \n",
    "print([G.vp['name'][vertex] for vertex in G.vertices()])"
   ]
  },
  {
   "cell_type": "code",
   "execution_count": 21,
   "metadata": {},
   "outputs": [
    {
     "name": "stdout",
     "output_type": "stream",
     "text": [
      "{'distance': <PropertyMap object with key type 'Edge' and value type 'double', for Graph 0x138a713c8, at 0x138aed7f0>}\n",
      "{'distance': <PropertyMap object with key type 'Edge' and value type 'double', for Graph 0x138a713c8, at 0x138aed7f0>}\n"
     ]
    }
   ],
   "source": [
    "# Edge properties are added in a similar manner.\n",
    "# Here we add an edge_property with the name \"distance\" and since distances are usually\n",
    "# decimals, we set its value to a double (or float).\n",
    "\n",
    "G.ep[\"distance\"] = G.new_edge_property(\"double\")\n",
    "print(G.ep)\n",
    "print(G.edge_properties)"
   ]
  },
  {
   "cell_type": "markdown",
   "metadata": {},
   "source": [
    "## Resolving the vertex_index conundrum with PropertyMaps"
   ]
  },
  {
   "cell_type": "code",
   "execution_count": 22,
   "metadata": {},
   "outputs": [
    {
     "name": "stdout",
     "output_type": "stream",
     "text": [
      "vertices:  [0 1 2]\n",
      "vertex_properties:  ['name']\n"
     ]
    }
   ],
   "source": [
    "# We can now resolve the conundrum we had where graph-tool \n",
    "# assigns a particular (sequential) index to a vertex \n",
    "# while we may have had a different index in our edge_list\n",
    "\n",
    "# I find that the following method is accurate if somewhat inelegant \n",
    "# in that we have to write to use pandas and write to disk\n",
    "\n",
    "df = pd.DataFrame.from_records(edge_list, columns=['node_1', 'node_2'])\n",
    "df.to_csv('edge_list.csv', sep=',', index=False)\n",
    "G = load_graph_from_csv('edge_list.csv', skip_first=True, directed=False, hashed=True)\n",
    "\n",
    "print(\"vertices: \", G.get_vertices())\n",
    "print(\"vertex_properties: \", G.vp.keys())"
   ]
  },
  {
   "cell_type": "code",
   "execution_count": 23,
   "metadata": {},
   "outputs": [
    {
     "name": "stdout",
     "output_type": "stream",
     "text": [
      "[0, 1, 2]\n",
      "['1', '7', '4']\n"
     ]
    }
   ],
   "source": [
    "# We see that load_graph_from_csv with hashed=True has created a vertex_property for us called \"name\"\n",
    "# The value of this property is our original index for the vertex:\n",
    "\n",
    "print([index for index in G.get_vertices()])\n",
    "print([G.vp['name'][vertex] for vertex in G.vertices()])"
   ]
  },
  {
   "cell_type": "code",
   "execution_count": 24,
   "metadata": {},
   "outputs": [],
   "source": [
    "# So this way we can construct a map from our old index to the graph_tool index and back\n",
    "\n",
    "gt_us_dict = {G.vertex_index[vertex]: G.vp['name'][vertex] for vertex in G.vertices()}\n",
    "us_gt_dict = {G.vp['name'][vertex]:G.vertex_index[vertex] for vertex in G.vertices()}"
   ]
  },
  {
   "cell_type": "code",
   "execution_count": 25,
   "metadata": {},
   "outputs": [
    {
     "name": "stdout",
     "output_type": "stream",
     "text": [
      "{0: '1', 1: '7', 2: '4'}\n",
      "{'1': 0, '7': 1, '4': 2}\n"
     ]
    }
   ],
   "source": [
    "print(gt_us_dict)\n",
    "print(us_gt_dict)"
   ]
  },
  {
   "cell_type": "code",
   "execution_count": 26,
   "metadata": {},
   "outputs": [
    {
     "name": "stdout",
     "output_type": "stream",
     "text": [
      "{'1': <Vertex object with index '0' at 0x138a69db0>, '7': <Vertex object with index '1' at 0x138a69ed0>, '4': <Vertex object with index '2' at 0x138a69f30>}\n"
     ]
    }
   ],
   "source": [
    "# We can also have a dict whose keys are our vertex_indices and who vals are the vertex_class objects:\n",
    "vertex_dict = {G.vp['name'][vertex]:vertex for vertex in G.vertices()}\n",
    "print(vertex_dict)"
   ]
  },
  {
   "cell_type": "markdown",
   "metadata": {},
   "source": [
    "# Input-Output"
   ]
  },
  {
   "cell_type": "code",
   "execution_count": 27,
   "metadata": {},
   "outputs": [],
   "source": [
    "# While we saw that an edge-list is a minimal way to present simple graphs \n",
    "# and that this can easily be written to a csv, \n",
    "# once one has instantiated various property maps, \n",
    "# it's best to save a graph-tool object as a custom binary .gt file."
   ]
  },
  {
   "cell_type": "code",
   "execution_count": 28,
   "metadata": {},
   "outputs": [],
   "source": [
    "G.save('graph.gt', fmt='gt')\n",
    "G.load('graph.gt')"
   ]
  },
  {
   "cell_type": "code",
   "execution_count": 30,
   "metadata": {},
   "outputs": [
    {
     "data": {
      "text/plain": [
       "{'name': <PropertyMap object with key type 'Vertex' and value type 'string', for Graph 0x138aedc18, at 0x138aed710>}"
      ]
     },
     "execution_count": 30,
     "metadata": {},
     "output_type": "execute_result"
    }
   ],
   "source": [
    "G.vp"
   ]
  },
  {
   "cell_type": "markdown",
   "metadata": {},
   "source": [
    "## Performance"
   ]
  },
  {
   "cell_type": "code",
   "execution_count": 56,
   "metadata": {},
   "outputs": [
    {
     "name": "stdout",
     "output_type": "stream",
     "text": [
      "Number of unique vertices: 1862220\n"
     ]
    },
    {
     "data": {
      "text/html": [
       "<div>\n",
       "<style scoped>\n",
       "    .dataframe tbody tr th:only-of-type {\n",
       "        vertical-align: middle;\n",
       "    }\n",
       "\n",
       "    .dataframe tbody tr th {\n",
       "        vertical-align: top;\n",
       "    }\n",
       "\n",
       "    .dataframe thead th {\n",
       "        text-align: right;\n",
       "    }\n",
       "</style>\n",
       "<table border=\"1\" class=\"dataframe\">\n",
       "  <thead>\n",
       "    <tr style=\"text-align: right;\">\n",
       "      <th></th>\n",
       "      <th>source_node</th>\n",
       "      <th>destination_node</th>\n",
       "    </tr>\n",
       "  </thead>\n",
       "  <tbody>\n",
       "    <tr>\n",
       "      <th>0</th>\n",
       "      <td>1</td>\n",
       "      <td>690569</td>\n",
       "    </tr>\n",
       "    <tr>\n",
       "      <th>1</th>\n",
       "      <td>1</td>\n",
       "      <td>315892</td>\n",
       "    </tr>\n",
       "    <tr>\n",
       "      <th>2</th>\n",
       "      <td>1</td>\n",
       "      <td>189226</td>\n",
       "    </tr>\n",
       "    <tr>\n",
       "      <th>3</th>\n",
       "      <td>2</td>\n",
       "      <td>834328</td>\n",
       "    </tr>\n",
       "    <tr>\n",
       "      <th>4</th>\n",
       "      <td>2</td>\n",
       "      <td>1615927</td>\n",
       "    </tr>\n",
       "  </tbody>\n",
       "</table>\n",
       "</div>"
      ],
      "text/plain": [
       "   source_node  destination_node\n",
       "0            1            690569\n",
       "1            1            315892\n",
       "2            1            189226\n",
       "3            2            834328\n",
       "4            2           1615927"
      ]
     },
     "execution_count": 56,
     "metadata": {},
     "output_type": "execute_result"
    }
   ],
   "source": [
    "# To test the performance we load a 150Mb graph from facebook\n",
    "# https://www.kaggle.com/c/FacebookRecruiting\n",
    "\n",
    "df = pd.read_csv('fbook_edge_list.csv')\n",
    "vertices_unique = set(list(df['source_node'].unique()) + list(df['destination_node'].unique())) \n",
    "print(\"Number of unique nodes: {}\".format(len(vertices_unique)))\n",
    "df[:5]"
   ]
  },
  {
   "cell_type": "code",
   "execution_count": 51,
   "metadata": {},
   "outputs": [
    {
     "name": "stdout",
     "output_type": "stream",
     "text": [
      "27.242825031280518\n"
     ]
    }
   ],
   "source": [
    "# For loading from a csv I find: 26.3s\n",
    "\n",
    "start = time.time()\n",
    "G = load_graph_from_csv('fbook_edge_list.csv', skip_first=True, directed=True, hashed=True)\n",
    "print(time.time() - start)"
   ]
  },
  {
   "cell_type": "code",
   "execution_count": 57,
   "metadata": {},
   "outputs": [
    {
     "name": "stdout",
     "output_type": "stream",
     "text": [
      "Number of vertices: 1862220\n"
     ]
    }
   ],
   "source": [
    "print(\"Number of vertices: {}\".format(len(G.get_vertices())))"
   ]
  },
  {
   "cell_type": "code",
   "execution_count": 46,
   "metadata": {},
   "outputs": [
    {
     "name": "stdout",
     "output_type": "stream",
     "text": [
      "505 ms ± 0 ns per loop (mean ± std. dev. of 1 run, 1 loop each)\n"
     ]
    }
   ],
   "source": [
    "# Saveing to a .gt file is about half a second\n",
    "%timeit -r 1 G.save('fbook_edge_list.gt', fmt='gt')"
   ]
  },
  {
   "cell_type": "code",
   "execution_count": 47,
   "metadata": {},
   "outputs": [
    {
     "name": "stdout",
     "output_type": "stream",
     "text": [
      "2.860599994659424\n"
     ]
    }
   ],
   "source": [
    "# Loading from the .gt file is around 3seconds.\n",
    "G = Graph()\n",
    "start = time.time()\n",
    "G.load('fbook_edge_list.gt', fmt='gt')\n",
    "print(time.time() - start)"
   ]
  },
  {
   "cell_type": "code",
   "execution_count": 59,
   "metadata": {},
   "outputs": [
    {
     "data": {
      "text/plain": [
       "1862220"
      ]
     },
     "execution_count": 59,
     "metadata": {},
     "output_type": "execute_result"
    }
   ],
   "source": [
    "# Checking that our graph is indeed what we think it is\n",
    "len(G.get_vertices())"
   ]
  },
  {
   "cell_type": "markdown",
   "metadata": {
    "heading_collapsed": true
   },
   "source": [
    "# Shortest Distance"
   ]
  },
  {
   "cell_type": "code",
   "execution_count": null,
   "metadata": {
    "hidden": true
   },
   "outputs": [],
   "source": [
    "# An important concept in graph-theory is that of a shortest path.\n",
    "# Computationaly, it is the same to compute the shortest path and the shortest_distance."
   ]
  },
  {
   "cell_type": "code",
   "execution_count": 106,
   "metadata": {
    "hidden": true
   },
   "outputs": [],
   "source": [
    "G.load('fbook_edge_list.gt', fmt='gt')"
   ]
  },
  {
   "cell_type": "code",
   "execution_count": 108,
   "metadata": {
    "hidden": true
   },
   "outputs": [
    {
     "name": "stdout",
     "output_type": "stream",
     "text": [
      "6.1 s ± 0 ns per loop (mean ± std. dev. of 1 run, 1 loop each)\n"
     ]
    }
   ],
   "source": [
    "# 1. select pairs of vertices at random\n",
    "# 2. compute the shortest distance between pair-nodes\n",
    "\n",
    "# The time seems to be a bit less than 100ms per shortest_distance computation \n",
    "\n",
    "num_pairs = 50\n",
    "random_pairs = np.random.randint(low=0, high=G.get_vertices().max(), size=(num_pairs, 2))\n",
    "%timeit -r 1 [shortest_distance(G, G.vertex(pair[0]),G.vertex(pair[1])) for pair in random_pairs]"
   ]
  },
  {
   "cell_type": "markdown",
   "metadata": {
    "hidden": true
   },
   "source": [
    "## Shortest Path with weighted edges"
   ]
  },
  {
   "cell_type": "code",
   "execution_count": 89,
   "metadata": {
    "hidden": true
   },
   "outputs": [
    {
     "name": "stdout",
     "output_type": "stream",
     "text": [
      "write to csv: \n"
     ]
    }
   ],
   "source": [
    "# We first add a weigthed edge to the facebook graph\n",
    "\n",
    "df = pd.read_csv('fbook_edge_list.csv')\n",
    "lengths = np.random.randint(low=0, high=1000000, size=(len(df), ))\n",
    "df['length'] = lengths\n",
    "\n",
    "start = time.time()\n",
    "df.to_csv('fbook_edge_list_lengths.csv', sep=',', index=False)\n",
    "print(\"write to csv: {}\".format(time.time() - start))"
   ]
  },
  {
   "cell_type": "code",
   "execution_count": 109,
   "metadata": {
    "hidden": true
   },
   "outputs": [
    {
     "name": "stdout",
     "output_type": "stream",
     "text": [
      "load from csv: 34.16386294364929\n"
     ]
    }
   ],
   "source": [
    "# Here we have used certain kw-arguments \n",
    "# to correctly parse the edge-PropertyMap:\n",
    "# eprop_types = ['int'] \n",
    "# eprop_names=['length']\n",
    "\n",
    "start = time.time()\n",
    "G_w = load_graph_from_csv('fbook_edge_list_lengths.csv', \n",
    "                        skip_first=True, \n",
    "                        directed=True, \n",
    "                        hashed=True, \n",
    "                        eprop_types = ['int'],\n",
    "                        eprop_names=['length'])\n",
    "\n",
    "print(\"load from csv: {}\".format(time.time() - start))"
   ]
  },
  {
   "cell_type": "code",
   "execution_count": 114,
   "metadata": {
    "hidden": true
   },
   "outputs": [
    {
     "name": "stdout",
     "output_type": "stream",
     "text": [
      "43.7 s ± 0 ns per loop (mean ± std. dev. of 1 run, 1 loop each)\n"
     ]
    }
   ],
   "source": [
    "# We see here that now that the paths are weighted\n",
    "# note the kw-argument weights=G_w.ep['length'] in shortest_distance\n",
    "\n",
    "# each shortest_distance calculation now takes around 1 second.\n",
    "# This is an increase of a factor of about ten from the unweighted computation\n",
    "\n",
    "num_pairs = 10\n",
    "random_pairs = np.random.randint(low=0, high=G_w.get_vertices().max(), size=(num_pairs, 2))\n",
    "\n",
    "%timeit -r 1 [shortest_distance(G_w, G_w.vertex(pair[0]),G_w.vertex(pair[1]), \\\n",
    "                                weights=G_w.ep['length']) for pair in random_pairs]"
   ]
  },
  {
   "cell_type": "markdown",
   "metadata": {},
   "source": [
    "# Graph Centrality measures"
   ]
  },
  {
   "cell_type": "code",
   "execution_count": 117,
   "metadata": {},
   "outputs": [
    {
     "name": "stdout",
     "output_type": "stream",
     "text": [
      "Time to compute pagerank of our unweighterd graph: 18.162451028823853\n"
     ]
    }
   ],
   "source": [
    "# The pagerank algorithm converges in undere 20seconds\n",
    "# when we ignore the \"length\" PropertyMap\n",
    "\n",
    "# pagerank returns an external PropertyMap, it is external in that it\n",
    "# is not directly a property of the graph.\n",
    "\n",
    "start = time.time()\n",
    "pr = pagerank(G_w)\n",
    "print(\"Time to compute pagerank of our unweighted graph: {}s\".format(time.time() - start))"
   ]
  },
  {
   "cell_type": "code",
   "execution_count": 128,
   "metadata": {},
   "outputs": [
    {
     "name": "stdout",
     "output_type": "stream",
     "text": [
      "Time to compute pagerank of our weighted graph: 27.264307022094727\n"
     ]
    }
   ],
   "source": [
    "# The pagerank algorithm converges in just over 20seconds\n",
    "# when we include the \"length\" PropertyMap\n",
    "\n",
    "start = time.time()\n",
    "pr_w = pagerank(G_w, weight = G_w.ep['length'])\n",
    "print(\"Time to compute pagerank of our weighted graph: {}s\".format(time.time() - start))"
   ]
  },
  {
   "cell_type": "code",
   "execution_count": 126,
   "metadata": {},
   "outputs": [
    {
     "data": {
      "text/plain": [
       "[2.7844607326125795e-07,\n",
       " 1.6461054646314429e-06,\n",
       " 1.6770951207320375e-06,\n",
       " 4.902623902062898e-07,\n",
       " 3.7713027051676735e-07]"
      ]
     },
     "execution_count": 126,
     "metadata": {},
     "output_type": "execute_result"
    }
   ],
   "source": [
    "vertices_pr = [pr[vertex] for vertex in G_w.vertices()]\n",
    "vertices_pr[:5]"
   ]
  },
  {
   "cell_type": "code",
   "execution_count": 129,
   "metadata": {},
   "outputs": [
    {
     "data": {
      "text/plain": [
       "[2.7844607326125795e-07,\n",
       " 1.6461054646314429e-06,\n",
       " 1.6770951207320375e-06,\n",
       " 4.902623902062898e-07,\n",
       " 3.7713027051676735e-07]"
      ]
     },
     "execution_count": 129,
     "metadata": {},
     "output_type": "execute_result"
    }
   ],
   "source": [
    "vertices_pr_w = [pr_w[vertex] for vertex in G_w.vertices()]\n",
    "vertices_pr_w[:5]"
   ]
  },
  {
   "cell_type": "markdown",
   "metadata": {},
   "source": [
    "# Neighbours"
   ]
  },
  {
   "cell_type": "code",
   "execution_count": 134,
   "metadata": {},
   "outputs": [
    {
     "name": "stdout",
     "output_type": "stream",
     "text": [
      "Time to compute all_neighbours per vertex: 0.5709533929824829 ms\n"
     ]
    }
   ],
   "source": [
    "num_nodes = 10000\n",
    "random_nodes = np.random.randint(low=0, high=G_w.get_vertices().max(), size=(num_nodes, ))\n",
    "\n",
    "start = time.time()\n",
    "all_nbrs = [vertex.all_neighbors() for vertex in G.vertices()]\n",
    "print(\"Time to compute all_neighbours per vertex: {} ms\".format((time.time() - start)/num_nodes*10**3))"
   ]
  },
  {
   "cell_type": "code",
   "execution_count": 135,
   "metadata": {},
   "outputs": [
    {
     "data": {
      "text/plain": [
       "1862219"
      ]
     },
     "execution_count": 135,
     "metadata": {},
     "output_type": "execute_result"
    }
   ],
   "source": [
    "G_w.get_vertices().max()"
   ]
  },
  {
   "cell_type": "code",
   "execution_count": null,
   "metadata": {},
   "outputs": [],
   "source": []
  }
 ],
 "metadata": {
  "kernelspec": {
   "display_name": "Python 3",
   "language": "python",
   "name": "python3"
  },
  "language_info": {
   "codemirror_mode": {
    "name": "ipython",
    "version": 3
   },
   "file_extension": ".py",
   "mimetype": "text/x-python",
   "name": "python",
   "nbconvert_exporter": "python",
   "pygments_lexer": "ipython3",
   "version": "3.7.2"
  }
 },
 "nbformat": 4,
 "nbformat_minor": 2
}
